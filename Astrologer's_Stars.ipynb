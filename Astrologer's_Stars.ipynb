{
 "cells": [
  {
   "cell_type": "code",
   "execution_count": null,
   "metadata": {},
   "outputs": [
    {
     "name": "stdout",
     "output_type": "stream",
     "text": [
      ">>> >> > ***  Astrologer's Star *** < << <<< \n"
     ]
    }
   ],
   "source": [
    "print(\">>> >> > *** Astrologer's Star *** < << <<< \")\n",
    "try:\n",
    "    m = int(input('Enter The No. of Rows: '))\n",
    "    n = int(input('Enter the Pattern No. (0 or 1): '))\n",
    "    if n == 0:\n",
    "        count = 0\n",
    "        while(count <= m):\n",
    "            print(\"*\" * count, end = \"\")\n",
    "            print(\"\\n\", end = \"\")\n",
    "            count = count + 1\n",
    "            \n",
    "    elif n == 1:\n",
    "        count = m\n",
    "        while(count != 0):\n",
    "            print(\"*\" * count, end = \"\")\n",
    "            print(\"\\n\", end = \"\")\n",
    "            count = count - 1\n",
    "        \n",
    "    else:\n",
    "        print(\"Invalid Pattern!! Plzz Try Again !!!!!!\")\n",
    "\n",
    "except Exception as s:\n",
    "    print(\"Invalid Input.. Plzz Try Again !!!!!\")"
   ]
  },
  {
   "cell_type": "code",
   "execution_count": null,
   "metadata": {},
   "outputs": [],
   "source": []
  },
  {
   "cell_type": "code",
   "execution_count": null,
   "metadata": {},
   "outputs": [],
   "source": []
  }
 ],
 "metadata": {
  "kernelspec": {
   "display_name": "Python 3",
   "language": "python",
   "name": "python3"
  },
  "language_info": {
   "codemirror_mode": {
    "name": "ipython",
    "version": 3
   },
   "file_extension": ".py",
   "mimetype": "text/x-python",
   "name": "python",
   "nbconvert_exporter": "python",
   "pygments_lexer": "ipython3",
   "version": "3.8.2"
  }
 },
 "nbformat": 4,
 "nbformat_minor": 4
}
